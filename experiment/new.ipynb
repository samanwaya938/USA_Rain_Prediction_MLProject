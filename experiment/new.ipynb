{
 "cells": [
  {
   "cell_type": "code",
   "execution_count": 16,
   "metadata": {},
   "outputs": [],
   "source": [
    "from sklearn.tree import DecisionTreeClassifier\n",
    "from sklearn.linear_model import LogisticRegression\n",
    "from sklearn.svm import SVC\n",
    "from sklearn.ensemble import RandomForestClassifier\n",
    "from sklearn.neighbors import KNeighborsClassifier\n",
    "from sklearn.metrics import accuracy_score\n",
    "from sklearn.model_selection import RandomizedSearchCV, train_test_split\n",
    "\n",
    "models = {\n",
    "      \"Logistic regression\" : LogisticRegression(),\n",
    "      \"Decision Tree\" : DecisionTreeClassifier(),\n",
    "      \"Support Vector Machine\" : SVC(),\n",
    "      \"Random Forest\" : RandomForestClassifier(),\n",
    "      \"K-Nearest Neighbors\" : KNeighborsClassifier()\n",
    "      }\n"
   ]
  },
  {
   "cell_type": "code",
   "execution_count": null,
   "metadata": {},
   "outputs": [
    {
     "name": "stdout",
     "output_type": "stream",
     "text": [
      "{'Logistic regression': [0.06, 1.2, 5.6, 9.2, 10.6], 'Decision Tree': [0.06, 1.2, 5.6, 9.2, 10.6], 'Support Vector Machine': [0.06, 1.2, 5.6, 9.2, 10.6], 'Random Forest': [0.06, 1.2, 5.6, 9.2, 10.6], 'K-Nearest Neighbors': [0.06, 1.2, 5.6, 9.2, 10.6]}\n"
     ]
    }
   ],
   "source": [
    "def evaluate_models(self,X_train,y_train,X_test,y_test,models,params):\n",
    "\n",
    "    try:\n",
    "      report = {}\n",
    "\n",
    "      for model_name, model in models.items():  # Iterate directly over model names and objects\n",
    "          para = params.get(model_name, {})  # Get parameters for the current mode\n",
    "          rf = RandomizedSearchCV(model, para, cv=3, n_jobs=-1, verbose=2)\n",
    "          rf.fit(X_train, y_train)\n",
    "          # Update model with best parameters\n",
    "          best_model = model.set_params(**rf.best_params_)\n",
    "          best_model.fit(X_train, y_train)\n",
    "          # Predictions\n",
    "          y_test_pred = best_model.predict(X_test)\n",
    "          # Confusion Matrix\n",
    "          # cm = confusion_matrix(y_test, y_test_pred)\n",
    "          # Classification Report\n",
    "          # clf_report = classification_report(y_test, y_test_pred)\n",
    "          # Calculate accuracy\n",
    "          test_model_score = accuracy_score(y_test, y_test_pred)\n",
    "          # Store score in the report dictionary\n",
    "          report[model_name] = test_model_score\n",
    "      return report\n",
    "    \n",
    "    except Exception as e:\n",
    "      raise MyException(e, sys)"
   ]
  },
  {
   "cell_type": "code",
   "execution_count": null,
   "metadata": {},
   "outputs": [
    {
     "name": "stdout",
     "output_type": "stream",
     "text": [
      "{'Logistic regression': (2, 3, 5, 1, 8, 9), 'Decision Tree': (2, 3, 5, 1, 8, 9), 'Support Vector Machine': (2, 3, 5, 1, 8, 9), 'Random Forest': (2, 3, 5, 1, 8, 9), 'K-Nearest Neighbors': (2, 3, 5, 1, 8, 9)}\n"
     ]
    }
   ],
   "source": [
    "lst = {}\n",
    "for model_name, model in models.items():\n",
    "  val1 = 2,3,5,1,8,9\n",
    "  lst[model_name] = val1  \n",
    "    \n",
    "print(lst)# Iterate directly over model names and objects"
   ]
  },
  {
   "cell_type": "code",
   "execution_count": 22,
   "metadata": {},
   "outputs": [
    {
     "data": {
      "text/plain": [
       "2"
      ]
     },
     "execution_count": 22,
     "metadata": {},
     "output_type": "execute_result"
    }
   ],
   "source": [
    "val1 = [2,3,5,1,8,9]\n",
    "val1[0]"
   ]
  },
  {
   "cell_type": "code",
   "execution_count": null,
   "metadata": {},
   "outputs": [],
   "source": []
  }
 ],
 "metadata": {
  "kernelspec": {
   "display_name": "venv_usarain",
   "language": "python",
   "name": "python3"
  },
  "language_info": {
   "codemirror_mode": {
    "name": "ipython",
    "version": 3
   },
   "file_extension": ".py",
   "mimetype": "text/x-python",
   "name": "python",
   "nbconvert_exporter": "python",
   "pygments_lexer": "ipython3",
   "version": "3.13.1"
  }
 },
 "nbformat": 4,
 "nbformat_minor": 2
}
